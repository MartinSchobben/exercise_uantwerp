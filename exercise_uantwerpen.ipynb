{
 "cells": [
  {
   "attachments": {},
   "cell_type": "markdown",
   "metadata": {},
   "source": [
    "# Application geochemical modeller position University of Antwerpen\n",
    "\n",
    "*Martin Schobben* \n",
    "\n",
    "## Original exercise \n",
    "\n",
    "In a reactor, 1kg of basalt is dissolved in 1000 l deionized water (pH 7). The temperature is 25 ⁰C and atmospheric CO2 partial pressure is 2bar. The experiment is performed for 2 types of basalt (separately). Composition of the basalt1: 5%fosterite, 50% Ca plagioclase endmember and 45% augite (mass %). Composition of the basalt2  is 15%fosterite , 35% labradorite and 50% augite (mass %). The specific surface area (SSA) of basalt1 is 5 m²/g; SSA of basalt2 is 1 m²/g."
   ]
  },
  {
   "cell_type": "code",
   "execution_count": 30,
   "metadata": {},
   "outputs": [],
   "source": [
    "import numpy as np\n",
    "from matplotlib import pyplot as plt\n",
    "import phreeqpython as ph\n",
    "import math\n",
    "import chemw"
   ]
  },
  {
   "attachments": {},
   "cell_type": "markdown",
   "metadata": {},
   "source": [
    "## Boundary conditions\n",
    "\n",
    "I first fix all the boundary conditions of the exercise. For this a PhreeqPython session is initiated."
   ]
  },
  {
   "cell_type": "code",
   "execution_count": 31,
   "metadata": {},
   "outputs": [],
   "source": [
    "# start session phreeqc\n",
    "pp = ph.PhreeqPython('T_H.DAT')\n",
    "\n",
    "# boundary conditions mediuum\n",
    "volume = 1000 # l\n",
    "pH = 7\n",
    "Temp = 25 # degree Celcius\n",
    "pCO2 = 2 # bar\n",
    "logCO2 = math.log10(pCO2)\n",
    "\n",
    "# boundary conditions reactant\n",
    "mass_basalt = 1000 # g\n",
    "# specific surface area \n",
    "ssa1 = 5e4 # cm2 / g\n",
    "ssa2 = 1e4 # cm2 / g"
   ]
  },
  {
   "attachments": {},
   "cell_type": "markdown",
   "metadata": {},
   "source": [
    "After that I instantiate two solutions for both of the basalt experiment, and ensure that these solutions are in equilibrium with atmospheric $pCO_{2}$. To check the result I show the output of solution 1 before and after equalizing the solution."
   ]
  },
  {
   "cell_type": "code",
   "execution_count": 32,
   "metadata": {},
   "outputs": [
    {
     "data": {
      "text/plain": [
       "0.0"
      ]
     },
     "execution_count": 32,
     "metadata": {},
     "output_type": "execute_result"
    }
   ],
   "source": [
    "# initiate solution 1\n",
    "solution1 = pp.add_solution({})\n",
    "# check alkalinity\n",
    "solution1.total('HCO3-', 'mol')  + 2 * solution1.total('CO3-', 'mol')"
   ]
  },
  {
   "cell_type": "code",
   "execution_count": 33,
   "metadata": {},
   "outputs": [
    {
     "data": {
      "text/plain": [
       "0.00017657538415155082"
      ]
     },
     "execution_count": 33,
     "metadata": {},
     "output_type": "execute_result"
    }
   ],
   "source": [
    "# CO2 in equilibrium\n",
    "solution1 = solution1.equalize(['CO2(g)'], [logCO2])\n",
    "# check alkalinity\n",
    "solution1.total('HCO3-', 'mol')  + 2 * solution1.total('CO3-', 'mol')"
   ]
  },
  {
   "cell_type": "code",
   "execution_count": 34,
   "metadata": {},
   "outputs": [],
   "source": [
    "# initiate solution 2\n",
    "solution2 = pp.add_solution({})\n",
    "# CO2 in equilibrium\n",
    "solution2 = solution2.equalize(['CO2(g)'], [logCO2])"
   ]
  },
  {
   "attachments": {},
   "cell_type": "markdown",
   "metadata": {},
   "source": [
    "## State variables\n",
    "\n",
    "Here I define the state variable (chemical species) that change over time with the correct units. For molecular weights I use the *chemw* package."
   ]
  },
  {
   "cell_type": "code",
   "execution_count": 35,
   "metadata": {},
   "outputs": [
    {
     "name": "stdout",
     "output_type": "stream",
     "text": [
      "Mg2SiO4 --- MW (amu): 140.69\n",
      "CaAl2Si2O8 --- MW (amu): 278.21\n",
      "CaMgSi2O6 --- MW (amu): 216.55\n"
     ]
    }
   ],
   "source": [
    "# get molecular weights\n",
    "chem_mw = chemw.ChemMW(verbose = False, printing = True)\n",
    "\n",
    "# mineral fractions basalt1\n",
    "frac_for1 = 0.05\n",
    "mass_for1 =  mass_basalt * frac_for1 # g\n",
    "frac_plag1 = 0.5\n",
    "mass_plag1 = mass_basalt * frac_plag1 # g\n",
    "frac_diop1 = 0.45\n",
    "mass_diop1 = mass_basalt * frac_diop1 # g\n",
    "\n",
    "# mineral fractions basalt2\n",
    "frac_for2 = 0.15\n",
    "mass_for2 =  mass_basalt * frac_for2 # g\n",
    "frac_plag2 = 0.35\n",
    "mass_plag2 = mass_basalt * frac_plag2 # g\n",
    "frac_diop2 = 0.5\n",
    "mass_diop2 = mass_basalt * frac_diop2 # g\n",
    "\n",
    "# Olivine (Forsterite = Mg2SiO4 + 4H+ = 2Mg+2 + H4SiO4)\n",
    "name_for = 'Forsterite'\n",
    "formula_for = 'Mg2SiO4'\n",
    "amu_for = chem_mw.mass(formula_for)\n",
    "dens_for = 3.32 # g mineral per cm3 mineral\n",
    "\n",
    "# basalt 1\n",
    "M0_for1 = mass_for1 / float(amu_for) # mol\n",
    "\n",
    "# basalt 2\n",
    "M0_for2 = mass_for2 / float(amu_for) # mol\n",
    "\n",
    "# Plagioclase (Anorthite = CaAl2Si2O8 + 8H2O = Ca+2 + 2Al(OH)4- + 2H4SiO4)\n",
    "name_plag = 'Anorthite'\n",
    "formula_plag = 'CaAl2Si2O8' \n",
    "amu_plag = chem_mw.mass(formula_plag)\n",
    "dens_plag = 2.73 # g mineral per cm3 mineral\n",
    "\n",
    "# basalt 1\n",
    "M0_plag1 = mass_plag1 / float(amu_plag) # mol \n",
    "\n",
    "# basalt 2\n",
    "M0_plag2 = mass_plag2 / float(amu_plag) # mol \n",
    "\n",
    "# Diopside (Augite = CaMgSi2O6 + 4H+ + 2H2O = Ca+2 + Mg+2 + 2H4SiO4)\n",
    "name_diop = 'Diposide'\n",
    "formula_diop = 'CaMgSi2O6'\n",
    "amu_diop = chem_mw.mass(formula_diop)\n",
    "dens_diop = 3.4 # g mineral per cm3 mineral\n",
    "\n",
    "# basalt 1\n",
    "M0_diop1 = mass_diop1 / float(amu_diop) # mol \n",
    "\n",
    "# basalt 2\n",
    "M0_diop2 = mass_diop2 / float(amu_diop) # mol "
   ]
  },
  {
   "attachments": {},
   "cell_type": "markdown",
   "metadata": {},
   "source": [
    "## Calculate mineral specific surface area\n",
    "\n",
    "Here I define a function which inputs the rock mineral masses and denisties togeter with the rock's overall surface area in order to obtain the mineral specific surface area in ,m2. By first calculating the volume fraction of each mineral, as follows:\n",
    "\n",
    "$$ \\text{f}V_{i} = M_{i} * \\rho_i / \\sum_{i=1}^{N} M_{i} * \\rho_i .$$\n",
    "\n",
    "This step is followed by calculating the relative specific surface area (RSSA) with the mineral's volume fraction, as follows:\n",
    "\n",
    "$$ \\text{f}V_{i} = \\text{f}V_{i}^{(\\frac{2}{3})} / \\sum_{i=1}^{N} \\text{f}V_{i}^{(\\frac{2}{3})} .$$\n",
    "\n",
    "To obtain the mineral's $i$ surface area the RSSA is multiplied with the rock's total SSA and the mineral specific masses:\n",
    "\n",
    "$$ A_{i} = RSSA * SSA * M_{i} $$"
   ]
  },
  {
   "cell_type": "code",
   "execution_count": 36,
   "metadata": {},
   "outputs": [],
   "source": [
    "# Mineral specific surface area\n",
    "def calc_surface(mass, dens, total_ssa):\n",
    "    \"\"\" \n",
    "    Parameters\n",
    "    ------------\n",
    "    mass = array of mineral masses in grams\n",
    "    dens = array of mineral densities in gram per cm3 \n",
    "    total_ssa = specific surface area of total rock (cm2 / g)\n",
    "\n",
    "    Description\n",
    "    ---------------\n",
    "    Use volume fractions to caclculate relative SSA (RSSA) for \n",
    "    each of the minerals of the rock.\n",
    "\n",
    "    SSA_mineral (cm2 / g) = RSSA_mineral * SSA_tot (cm2 / g)\n",
    "    A_mineral = mass_mineral * SSA_mineral\n",
    "\n",
    "    Output\n",
    "    -------\n",
    "    initial surface of mineral m2\n",
    "    \n",
    "    \"\"\"\n",
    "    \n",
    "    # initialise arrays\n",
    "    vol_frac = np.array([])\n",
    "    rssa = np.array([])\n",
    "    \n",
    "    # calculate volume fraction\n",
    "    tot_vol_frac = mass * dens # volume fraction\n",
    "    for i in range(len(mass)):\n",
    "        vol_frac = np.append(vol_frac, (mass[i] * dens[i]) / tot_vol_frac.sum())\n",
    "\n",
    "    # calculate relative ssa\n",
    "    ssa = vol_frac ** (2 / 3)\n",
    "    for i in range(len(vol_frac)):\n",
    "        rssa = np.append(rssa, (vol_frac[i]  ** (2 / 3)) / ssa.sum()) \n",
    "\n",
    "    return tuple(rssa * total_ssa * mass / 1e4)\n",
    "\n",
    "# arrays of masses \n",
    "mass1 = np.array([mass_for1, mass_plag1, mass_diop1])\n",
    "mass2 = np.array([mass_for2, mass_plag2, mass_diop2])\n",
    "# arrays of densities\n",
    "dens = np.array([dens_for, dens_plag, dens_diop])\n",
    "# mineral specific surface area\n",
    "A_for1, A_plag1, A_diop1 = calc_surface(mass1, dens, ssa1) # basalt 1\n",
    "A_for2, A_plag2, A_diop2 = calc_surface(mass2, dens, ssa2) # basalt 2"
   ]
  },
  {
   "attachments": {},
   "cell_type": "markdown",
   "metadata": {},
   "source": [
    "## Kinetic dissolution of a mineral\n",
    "\n",
    "Here I define the function for kinetic dissolution of the mineral phases within the rock sample. This function is defined as follows:\n",
    "\n",
    "$$ \\frac{dS_i}{dt}  = \\frac{A_0}{V} \\frac{M}{M_0}^{0.67} k (1 - SR) $$\n",
    "\n",
    "where $Si$ is the concentration of species $i$ (mol/L); $t$ is time (s); $A0$ is the initial surface of the mineral phase (m2); $V$ is the solution volume (L); $M$ is the remaining mass of phase $i$ (moles); $M0$ is the initial mass of species $i$ (moles); $k$ is the rate constant = 10-13.7 mol/m2/s (25 C); SR is the Saturation Ratio for species $i$."
   ]
  },
  {
   "cell_type": "code",
   "execution_count": 37,
   "metadata": {},
   "outputs": [],
   "source": [
    "# kinetic dissolution\n",
    "def ratefun(sol, dm, m0, A0, V, species):\n",
    "    \"\"\" \n",
    "    parameters\n",
    "    --------\n",
    "    sol = The solution at timestep t\n",
    "    dm = difference in moles of for timestep dt\n",
    "    m0 = Moles of initial phase\n",
    "    A0 = Initial surface m2 (calculate with mineral specific surface)\n",
    "    V = Volume in liters\n",
    "    species = String of phase name \n",
    "\n",
    "    Constants\n",
    "    ---------\n",
    "    k rate constant = 10-13.7 mol/m2/s (25 C)\n",
    "    SR is the Saturation Ratio for the phase\n",
    "\n",
    "    Output\n",
    "    --------\n",
    "    Dissolution rate mol/liter/sec\n",
    "    \"\"\"\n",
    "    \n",
    "    # rate constant\n",
    "    k = 10 ** -13.7\n",
    "\n",
    "    # moles of phase for timestep t\n",
    "    m = m0 - dm\n",
    "\n",
    "    # rate at timestep t\n",
    "    rate = (A0 / V) * (m / m0) ** 0.67 * k* (1 - sol.sr(species))\n",
    "    \n",
    "    return rate"
   ]
  },
  {
   "attachments": {},
   "cell_type": "markdown",
   "metadata": {},
   "source": [
    "The following function solves the previous defined ordinary differential equation."
   ]
  },
  {
   "cell_type": "code",
   "execution_count": 38,
   "metadata": {},
   "outputs": [],
   "source": [
    "# solve ODE \n",
    "def solve_kinetic_dissolution(solution, nmax, species, formula, surface, volume):\n",
    "   \n",
    "    # initiate arrays\n",
    "    t = np.array([])\n",
    "    y = []\n",
    "\n",
    "    # seconds in week\n",
    "    weeks = 7 * 24 * 3600\n",
    "    \n",
    "    # time steps\n",
    "    for time, sol in solution.kinetics(\n",
    "        formula,\n",
    "        rate_function=ratefun, \n",
    "        time=np.linspace(0, nmax * weeks, 15),\n",
    "        m0=M0_for1, \n",
    "        args=(surface, volume, species)\n",
    "    ):\n",
    "\n",
    "        # save time iterated steps\n",
    "        t = np.append(t, time)\n",
    "        y.append(solution.total('HCO3-', 'mol')  + 2 * solution.total('CO3-', 'mol'))\n",
    "\n",
    "    return t, np.array(y)  \n",
    "\n",
    "# basalt1\n",
    "# add forsterite\n",
    "t, y_for1 = solve_kinetic_dissolution(solution1, 2, name_for, formula_for, A_for1, volume)\n",
    "\n",
    "# add ca plagioclase\n",
    "t, y_plag1 = solve_kinetic_dissolution(solution1, 2, name_plag, formula_plag, A_plag1, volume)\n",
    "\n",
    "# add diopside\n",
    "t, y_diop1 = solve_kinetic_dissolution(solution1, 2, name_diop, formula_diop, A_diop1, volume)\n",
    "\n",
    "\n",
    "# basalt2\n",
    "# add forsterite\n",
    "t, y_for2 = solve_kinetic_dissolution(solution2, 2, name_for, formula_for, A_for2, volume)\n",
    "\n",
    "# add ca plagioclase\n",
    "t, y_plag2 = solve_kinetic_dissolution(solution2, 2, name_plag, formula_plag, A_plag2, volume)\n",
    "\n",
    "# add diopside\n",
    "t, y_diop2 = solve_kinetic_dissolution(solution2, 2, name_diop, formula_diop, A_diop2, volume)"
   ]
  },
  {
   "attachments": {},
   "cell_type": "markdown",
   "metadata": {},
   "source": [
    "## Question 1\n",
    "\n",
    "*What will be the alkalinity after two weeks?*\n",
    "\n",
    "I have used carbonate alkalinity as a measure for alkalinity and I plot the results of the solution for both basalts as a timeseries of two weeks."
   ]
  },
  {
   "cell_type": "code",
   "execution_count": 39,
   "metadata": {},
   "outputs": [
    {
     "data": {
      "image/png": "[encoded data removed]",
      "text/plain": [
       "<Figure size 640x480 with 2 Axes>"
      ]
     },
     "metadata": {},
     "output_type": "display_data"
    }
   ],
   "source": [
    "# Create two subplots and unpack the output array immediately\n",
    "f, (ax1, ax2) = plt.subplots(1, 2, sharey=True)\n",
    "ax1.plot(t / (7 * 24 * 3600), y_diop1, label = 'Alkalinity')\n",
    "ax2.plot(t / (7 * 24 * 3600), y_diop2, label = 'Alkalinity')\n",
    "\n",
    "# decoration\n",
    "ax1.set_xlabel('weeks')\n",
    "ax2.set_xlabel('weeks')\n",
    "ax1.set_ylabel('mmol/l')\n",
    "ax1.set_title('Dissolution basalt 1')\n",
    "ax2.set_title('Dissolution basalt 2')\n",
    "plt.show()"
   ]
  },
  {
   "attachments": {},
   "cell_type": "markdown",
   "metadata": {},
   "source": [
    "To better show what the difference is I plot the differenc of the start of the experiment with the concentration after two week for both experimetns. This shows that basalt 1 increases the solution with about 5 mmol/liter alkalinity and basalt 2 only 1 mmol/liter alkalinity."
   ]
  },
  {
   "cell_type": "code",
   "execution_count": 40,
   "metadata": {},
   "outputs": [
    {
     "data": {
      "image/png": "[encoded data removed]",
      "text/plain": [
       "<Figure size 640x480 with 1 Axes>"
      ]
     },
     "metadata": {},
     "output_type": "display_data"
    }
   ],
   "source": [
    "# bar plot of difference\n",
    "fig, ax = plt.subplots()\n",
    "\n",
    "# difference in alkalinity over two weeks\n",
    "diff_diop1 = y_diop1[-1] - y_diop1[0]\n",
    "diff_diop2 = y_diop2[-1] - y_diop2[0]\n",
    "diffs = [diff_diop1, diff_diop2]\n",
    "names = ['Basalt 1', 'Basalt2']\n",
    "\n",
    "# barplot \n",
    "ax.bar(names, diffs, label=names, color=['blue', 'red'])\n",
    "ax.set_ylabel('difference alkalinity (mol/l) after 2 weeks')\n",
    "ax.set_title('Dissolution of basalts')\n",
    "\n",
    "plt.show()"
   ]
  },
  {
   "attachments": {},
   "cell_type": "markdown",
   "metadata": {},
   "source": [
    "## Question 2\n",
    "\n",
    "*Which of the 2 basalts will sequester more CO2 during this time period? *\n",
    "\n",
    "This result suggest that weathering of basalt 1 would be most efficient in drawing down atmospheric $p\\text{CO}_2$.\n",
    "\n",
    "\n",
    "## Question 3\n",
    "\n",
    "*How long will it take to dissolve 99% of basalt 1 and 2 respectively?*"
   ]
  },
  {
   "cell_type": "code",
   "execution_count": null,
   "metadata": {},
   "outputs": [],
   "source": []
  }
 ],
 "metadata": {
  "kernelspec": {
   "display_name": "Python 3",
   "language": "python",
   "name": "python3"
  },
  "language_info": {
   "codemirror_mode": {
    "name": "ipython",
    "version": 3
   },
   "file_extension": ".py",
   "mimetype": "text/x-python",
   "name": "python",
   "nbconvert_exporter": "python",
   "pygments_lexer": "ipython3",
   "version": "3.10.10"
  },
  "orig_nbformat": 4
 },
 "nbformat": 4,
 "nbformat_minor": 2
}
