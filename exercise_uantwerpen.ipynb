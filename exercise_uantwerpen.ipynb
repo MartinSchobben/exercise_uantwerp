{
 "cells": [
  {
   "attachments": {},
   "cell_type": "markdown",
   "metadata": {},
   "source": [
    "# Application geochemical modeler position University of Antwerpen\n",
    "\n",
    "*Martin Schobben* \n",
    "\n",
    "## Original exercise \n",
    "\n",
    "In a reactor, 1kg of basalt is dissolved in 1000 l deionized water (pH 7). The temperature is 25 ⁰C and atmospheric CO2 partial pressure is 2bar. The experiment is performed for 2 types of basalt (separately). Composition of the basalt1: 5%fosterite, 50% Ca plagioclase endmember and 45% augite (mass %). Composition of the basalt2  is 15%fosterite , 35% labradorite and 50% augite (mass %). The specific surface area (SSA) of basalt1 is 5 m²/g; SSA of basalt2 is 1 m²/g."
   ]
  },
  {
   "cell_type": "code",
   "execution_count": 1,
   "metadata": {},
   "outputs": [],
   "source": [
    "import numpy as np\n",
    "from matplotlib import pyplot as plt\n",
    "import phreeqpython as ph\n",
    "import math\n",
    "import chemw\n",
    "import os\n",
    "from scipy.integrate import odeint"
   ]
  },
  {
   "attachments": {},
   "cell_type": "markdown",
   "metadata": {},
   "source": [
    "## Boundary conditions\n",
    "\n",
    "I first fix all the boundary conditions of the exercise. For this a PhreeqPython session is initiated."
   ]
  },
  {
   "cell_type": "code",
   "execution_count": 2,
   "metadata": {},
   "outputs": [],
   "source": [
    "# start session\n",
    "pp = ph.PhreeqPython(os.path.join(os.getcwd(), 'database', 'T_H.DAT'))\n",
    "\n",
    "# boundary conditions mediuum\n",
    "volume = 1000 # l\n",
    "pH = 7\n",
    "Temp = 25 # degree Celcius\n",
    "pCO2 = 2 # bar\n",
    "logCO2 = math.log10(pCO2)\n",
    "\n",
    "# boundary conditions reactant\n",
    "mass_basalt = 1000 # g\n",
    "# specific surface area \n",
    "ssa1 = 5 # cm2 / g\n",
    "ssa2 = 1 # cm2 / g"
   ]
  },
  {
   "attachments": {},
   "cell_type": "markdown",
   "metadata": {},
   "source": [
    "After that I instantiate two solutions for both of the basalt experiment, and ensure that these solutions are in equilibrium with atmospheric $pCO_{2}$. To check the result I show the output of solution 1 before and after equalizing the solution."
   ]
  },
  {
   "cell_type": "code",
   "execution_count": 3,
   "metadata": {},
   "outputs": [
    {
     "data": {
      "text/plain": [
       "0.0"
      ]
     },
     "execution_count": 3,
     "metadata": {},
     "output_type": "execute_result"
    }
   ],
   "source": [
    "# initiate solution 1 (pH = 7 and T = 25 C)\n",
    "solution1 = pp.add_solution({})\n",
    "# check alkalinity\n",
    "solution1.total('HCO3-', 'mol')  + 2 * solution1.total('CO3-', 'mol')"
   ]
  },
  {
   "cell_type": "code",
   "execution_count": 4,
   "metadata": {},
   "outputs": [
    {
     "data": {
      "text/plain": [
       "0.00017657538415155082"
      ]
     },
     "execution_count": 4,
     "metadata": {},
     "output_type": "execute_result"
    }
   ],
   "source": [
    "# CO2 in equilibrium\n",
    "solution1 = solution1.equalize(['CO2(g)'], [logCO2])\n",
    "# check alkalinity\n",
    "solution1.total('HCO3-', 'mol')  + 2 * solution1.total('CO3-', 'mol')"
   ]
  },
  {
   "cell_type": "code",
   "execution_count": 5,
   "metadata": {},
   "outputs": [],
   "source": [
    "# initiate solution 2\n",
    "solution2 = pp.add_solution({})\n",
    "# CO2 in equilibrium\n",
    "solution2 = solution2.equalize(['CO2(g)'], [logCO2])"
   ]
  },
  {
   "attachments": {},
   "cell_type": "markdown",
   "metadata": {},
   "source": [
    "After that I keep the the overhead pressure constant, as follows:"
   ]
  },
  {
   "cell_type": "code",
   "execution_count": 6,
   "metadata": {},
   "outputs": [
    {
     "data": {
      "text/plain": [
       "<phreeqpython.solution.Solution at 0x7f3d9834ded0>"
      ]
     },
     "execution_count": 6,
     "metadata": {},
     "output_type": "execute_result"
    }
   ],
   "source": [
    "# keep gas at fixed pressure\n",
    "fp = pp.add_gas({'CO2(g)': 0,}, pressure=pCO2, fixed_pressure=True)\n",
    "solution1.interact(fp.copy())\n",
    "solution2.interact(fp.copy())"
   ]
  },
  {
   "attachments": {},
   "cell_type": "markdown",
   "metadata": {},
   "source": [
    "## State variables\n",
    "\n",
    "Here I define the state variable (chemical species) that change over time with the correct units. For molecular weights I use the *chemw* package."
   ]
  },
  {
   "cell_type": "code",
   "execution_count": 7,
   "metadata": {},
   "outputs": [
    {
     "name": "stdout",
     "output_type": "stream",
     "text": [
      "Mg2SiO4 --- MW (amu): 140.69\n",
      "CaAl2Si2O8 --- MW (amu): 278.21\n",
      "CaMgSi2O6 --- MW (amu): 216.55\n"
     ]
    }
   ],
   "source": [
    "# get molecular weights\n",
    "chem_mw = chemw.ChemMW(verbose = False, printing = True)\n",
    "\n",
    "# mineral fractions basalt1\n",
    "frac_for1 = 0.05\n",
    "mass_for1 =  mass_basalt * frac_for1 # g\n",
    "frac_plag1 = 0.5\n",
    "mass_plag1 = mass_basalt * frac_plag1 # g\n",
    "frac_diop1 = 0.45\n",
    "mass_diop1 = mass_basalt * frac_diop1 # g\n",
    "\n",
    "# mineral fractions basalt2\n",
    "frac_for2 = 0.15\n",
    "mass_for2 =  mass_basalt * frac_for2 # g\n",
    "frac_plag2 = 0.35\n",
    "mass_plag2 = mass_basalt * frac_plag2 # g\n",
    "frac_diop2 = 0.5\n",
    "mass_diop2 = mass_basalt * frac_diop2 # g\n",
    "\n",
    "# Olivine (Forsterite = Mg2SiO4 + 4H+ = 2Mg+2 + H4SiO4)\n",
    "name_for = 'Forsterite'\n",
    "formula_for = 'Mg2SiO4'\n",
    "amu_for = chem_mw.mass(formula_for)\n",
    "dens_for = 3.32 # g mineral per cm3 mineral\n",
    "\n",
    "# basalt 1\n",
    "M0_for1 = mass_for1 / float(amu_for) # mol\n",
    "\n",
    "# basalt 2\n",
    "M0_for2 = mass_for2 / float(amu_for) # mol\n",
    "\n",
    "# Plagioclase (Anorthite = CaAl2Si2O8 + 8H2O = Ca+2 + 2Al(OH)4- + 2H4SiO4)\n",
    "name_plag = 'Anorthite'\n",
    "formula_plag = 'CaAl2Si2O8' \n",
    "amu_plag = chem_mw.mass(formula_plag)\n",
    "dens_plag = 2.73 # g mineral per cm3 mineral\n",
    "\n",
    "# basalt 1\n",
    "M0_plag1 = mass_plag1 / float(amu_plag) # mol \n",
    "\n",
    "# basalt 2\n",
    "M0_plag2 = mass_plag2 / float(amu_plag) # mol \n",
    "\n",
    "# Diopside (Augite = CaMgSi2O6 + 4H+ + 2H2O = Ca+2 + Mg+2 + 2H4SiO4)\n",
    "name_diop = 'Diposide'\n",
    "formula_diop = 'CaMgSi2O6'\n",
    "amu_diop = chem_mw.mass(formula_diop)\n",
    "dens_diop = 3.4 # g mineral per cm3 mineral\n",
    "\n",
    "# basalt 1\n",
    "M0_diop1 = mass_diop1 / float(amu_diop) # mol\n",
    "\n",
    "# basalt 2\n",
    "M0_diop2 = mass_diop2 / float(amu_diop) # mol"
   ]
  },
  {
   "attachments": {},
   "cell_type": "markdown",
   "metadata": {},
   "source": [
    "## Calculate mineral specific surface area\n",
    "\n",
    "Here I define a function which inputs the rock mineral masses and denisties togeter with the rock's overall surface area in order to obtain the mineral specific surface area in ,m2. By first calculating the volume fraction of each mineral, as follows:\n",
    "\n",
    "$$ \\text{f}V_{i} = M_{i} * \\rho_i / \\sum_{i=1}^{N} M_{i} * \\rho_i .$$\n",
    "\n",
    "This step is followed by calculating the relative specific surface area (RSSA) with the mineral's volume fraction, as follows:\n",
    "\n",
    "$$ \\text{f}V_{i} = \\text{f}V_{i}^{(\\frac{2}{3})} / \\sum_{i=1}^{N} \\text{f}V_{i}^{(\\frac{2}{3})} .$$\n",
    "\n",
    "To obtain the mineral's $i$ surface area the RSSA is multiplied with the rock's total SSA and the mineral specific masses:\n",
    "\n",
    "$$ A_{i} = RSSA * SSA * M_{i} $$"
   ]
  },
  {
   "cell_type": "code",
   "execution_count": 8,
   "metadata": {},
   "outputs": [],
   "source": [
    "# Mineral specific surface area\n",
    "def calc_surface(mass, dens, total_ssa):\n",
    "    \"\"\" \n",
    "    Parameters\n",
    "    ------------\n",
    "    mass = array of mineral masses in grams\n",
    "    dens = array of mineral densities in gram per cm3 \n",
    "    total_ssa = specific surface area of total rock (cm2 / g)\n",
    "\n",
    "    Description\n",
    "    ---------------\n",
    "    Use volume fractions to caclculate relative SSA (RSSA) for \n",
    "    each of the minerals of the rock.\n",
    "\n",
    "    SSA_mineral (cm2 / g) = RSSA_mineral * SSA_tot (cm2 / g)\n",
    "    A_mineral = mass_mineral * SSA_mineral\n",
    "\n",
    "    Output\n",
    "    -------\n",
    "    initial surface of mineral m2\n",
    "    \n",
    "    \"\"\"\n",
    "    \n",
    "    # initialise arrays\n",
    "    vol_frac = np.array([])\n",
    "    rssa = np.array([])\n",
    "    \n",
    "    # calculate volume fraction\n",
    "    tot_vol_frac = mass * dens # volume fraction\n",
    "    for i in range(len(mass)):\n",
    "        vol_frac = np.append(vol_frac, (mass[i] * dens[i]) / tot_vol_frac.sum())\n",
    "\n",
    "    # calculate relative ssa\n",
    "    tot_rssa = vol_frac ** (2 / 3)\n",
    "    for i in range(len(vol_frac)):\n",
    "        rssa = np.append(rssa, (vol_frac[i]  ** (2 / 3)) / tot_rssa.sum()) \n",
    "\n",
    "    return tuple(rssa * total_ssa *  mass)\n",
    "\n",
    "# arrays of masses \n",
    "mass1 = np.array([mass_for1, mass_plag1, mass_diop1])\n",
    "mass2 = np.array([mass_for2, mass_plag2, mass_diop2])\n",
    "# arrays of densities\n",
    "dens = np.array([dens_for, dens_plag, dens_diop])\n",
    "# mineral specific surface area\n",
    "A_for1, A_plag1, A_diop1 = calc_surface(mass1, dens, ssa1) # basalt 1\n",
    "A_for2, A_plag2, A_diop2 = calc_surface(mass2, dens, ssa2) # basalt 2"
   ]
  },
  {
   "attachments": {},
   "cell_type": "markdown",
   "metadata": {},
   "source": [
    "## Kinetic dissolution of a mineral\n",
    "\n",
    "Here I define the function for kinetic dissolution of the mineral phases within the rock sample. This function is defined as follows:\n",
    "\n",
    "$$ \\frac{dS_i}{dt}  = \\frac{A_0}{V} \\frac{M}{M_0}^{0.67} k (1 - SR) $$\n",
    "\n",
    "where $Si$ is the concentration of species $i$ (mol/L); $t$ is time (s); $A0$ is the initial surface of the mineral phase (m2); $V$ is the solution volume (L); $M$ is the remaining mass of phase $i$ (moles); $M0$ is the initial mass of species $i$ (moles); $k$ is the rate constant = 10-13.7 mol/m2/s (25 C); SR is the Saturation Ratio for species $i$."
   ]
  },
  {
   "cell_type": "code",
   "execution_count": 9,
   "metadata": {},
   "outputs": [],
   "source": [
    "# kinetic dissolution\n",
    "def ratefun(dm, time, sol, form, phase, m0, A0, V, kfun):\n",
    "    \"\"\" \n",
    "    parameters\n",
    "    --------\n",
    "    sol = The solution at timestep t\n",
    "    dm = difference in moles of for timestep dt\n",
    "    m0 = Moles of initial phase\n",
    "    A0 = Initial surface m2 (calculate with mineral specific surface)\n",
    "    V = Volume in liters\n",
    "    phase = String of phase name\n",
    "    form = stochiometry phase\n",
    "    kfun = function to calculate rate constant\n",
    "\n",
    "    other params\n",
    "    ---------\n",
    "    k rate constant\n",
    "    SR is the Saturation Ratio for the phase\n",
    "\n",
    "    Output\n",
    "    --------\n",
    "    Dissolution rate mol/liter/sec\n",
    "    \"\"\"\n",
    "    # save intermediate\n",
    "    temp = sol.copy()\n",
    "\n",
    "    # add to solution\n",
    "    temp.add(form, dm[0], \"mol\")\n",
    "\n",
    "    # moles of phase for timestep t\n",
    "    m = m0 - dm[0]\n",
    "    \n",
    "    # rate constant\n",
    "    k = kfun(temp)\n",
    "\n",
    "    # rate at timestep t\n",
    "    if sol.sr(phase) < 0 or m >= 0:\n",
    "        rate = (A0 / V) * (m / m0) ** 0.67 * k * (1 - sol.sr(phase))\n",
    "    else:\n",
    "        rate = 0\n",
    "    \n",
    "    temp.forget() # cleanup the no longer needed temporary solution\n",
    "    return rate"
   ]
  },
  {
   "attachments": {},
   "cell_type": "markdown",
   "metadata": {},
   "source": [
    "In order to calculate the dissolution constants $R$ which depend on $T$ and ${H+}$, the following equation is followed.\n",
    "\n",
    "$$ r_{acid} = k_{acid}^{298.15K} \\exp{\\frac{-E_{acid}}{R}(\\frac{1}{T} - \\frac{1}{298.15K})} a_{\\text{H}^+} $$\n",
    "$$ r_{neutral} = k_{neutral}^{298.15K} \\exp{\\frac{-E_{neutral}}{R}(\\frac{1}{T} - \\frac{1}{298.15K})} $$\n",
    "$$ r_{base} = k_{base}^{298.15K} \\exp{\\frac{-E_{base}}{R}(\\frac{1}{T} - \\frac{1}{298.15K})} a_{\\text{H}^+} $$\n",
    "\n",
    "with the gas constant $R$, activation energy $E$ following the paper by Kelland et al 2020. And I cast these into a function factory, as follows:"
   ]
  },
  {
   "cell_type": "code",
   "execution_count": 10,
   "metadata": {},
   "outputs": [],
   "source": [
    "def calc_rate_const(k_acid, eapp_acid, n_acid, k_neut, eapp_neut, k_base, eapp_base, n_base):\n",
    "    def rate_const(sol) :\n",
    "        \"\"\" \n",
    "        R = gas constant 8.314e-3 KJ / K / mol 1.987 cal / mol * K\n",
    "        eapp activation energy (Kj/mol) \n",
    "        T = K\n",
    "        k = moles/m2/s\n",
    "        n = acitivity \n",
    "\n",
    "        \"\"\"\n",
    "        temp = sol.copy()\n",
    "        dif_temp = 1 / (temp.temperature + 273.15) - 1 / 298.15\n",
    "        hplus = temp.total(\"H+\", 'mol')\n",
    "\n",
    "        r_acid = k_acid * math.exp((-eapp_acid / 8.314e-3) * dif_temp) * (hplus ** n_acid)\n",
    "        r_neut = k_neut * math.exp((-eapp_neut / 8.314e-3) * dif_temp)\n",
    "        r_base = k_base * math.exp((-eapp_base / 8.314e-3) * dif_temp) * (hplus ** n_base)\n",
    "    \n",
    "        return r_acid + r_neut + r_base\n",
    "    return rate_const\n",
    "\n",
    "# function to calculate rate constant diopside\n",
    "k_diop = calc_rate_const(k_acid = 10 ** -6.36, eapp_acid = 96.1, n_acid = 0.71,  k_neut = 10 ** -11.11, eapp_neut = 40.6, k_base = 0, eapp_base = 0,  n_base = 0)\n",
    "k_for = calc_rate_const(k_acid = 10 ** -6.85, eapp_acid = 67.2, n_acid = 0.74,  k_neut = 10 ** -10.64, eapp_neut = 79, k_base = 0, eapp_base = 0,  n_base = 0)\n",
    "k_plag = calc_rate_const(k_acid = 10 ** -7.87, eapp_acid = 42.1, n_acid = 0.626,  k_neut = 10 ** -10.91, eapp_neut = 45.2, k_base = 0, eapp_base = 0,  n_base = 0)"
   ]
  },
  {
   "attachments": {},
   "cell_type": "markdown",
   "metadata": {},
   "source": [
    "The following function solves the previous defined ordinary differential equation."
   ]
  },
  {
   "cell_type": "code",
   "execution_count": 11,
   "metadata": {},
   "outputs": [],
   "source": [
    "# solve ODE \n",
    "def solve_kinetic(sol, time, form, phase, m0, A0, V, kfun):\n",
    "\n",
    "    # integrate\n",
    "    yy = odeint(ratefun, 0, time, args=(sol, form, phase, m0, A0, V, kfun))\n",
    "    dif_yy = np.insert(np.diff(yy[:,0]), 0, 0)\n",
    "\n",
    "    # impact on alkalinity\n",
    "    alk = []\n",
    "    for i in range(len(time)):\n",
    "        t = tt[i]\n",
    "        sol.add(form, dif_yy[i])\n",
    "        alk.append(sol.total('HCO3-', 'mmol')  + 2 * sol.total('CO3-', 'mmol'))\n",
    "\n",
    "    return np.array(alk), yy[:,0]\n",
    "\n",
    "# seconds in week\n",
    "weeks = 7 * 24 * 3600\n",
    "nmax = 2 # weeks\n",
    "tt = np.linspace(0, nmax * weeks, 25)\n",
    "\n",
    "# solve differential equation basalt1\n",
    "# add forsterite\n",
    "y_for1, M_for1 = solve_kinetic(solution1, tt, formula_for, name_for, M0_for1, A_for1, volume, k_for)\n",
    "\n",
    "# add ca plagioclase\n",
    "y_plag1, M_plag1 = solve_kinetic(solution1, tt, formula_plag, name_plag, M0_plag1, A_plag1, volume, k_plag)\n",
    "\n",
    "# add diopside\n",
    "y_diop1, M_diop1 = solve_kinetic(solution1, tt, formula_diop, name_diop, M0_diop1, A_diop1, volume, k_diop)\n",
    "\n",
    "# solve differential equation basalt2\n",
    "# add forsterite\n",
    "y_for2, M_for2 = solve_kinetic(solution2, tt, formula_for, name_for, M0_for2, A_for2, volume, k_for)\n",
    "\n",
    "# add ca plagioclase\n",
    "y_plag2, M_plag2 = solve_kinetic(solution2, tt, formula_plag, name_plag, M0_plag2, A_plag2, volume, k_plag)\n",
    "\n",
    "# add diopside\n",
    "y_diop2, M_diop2 = solve_kinetic(solution2, tt, formula_diop, name_diop, M0_diop2, A_diop2, volume, k_diop)"
   ]
  },
  {
   "attachments": {},
   "cell_type": "markdown",
   "metadata": {},
   "source": [
    "## Question 1\n",
    "\n",
    "*What will be the alkalinity after two weeks?*\n",
    "\n",
    "I have used carbonate alkalinity as a measure for alkalinity and I plot the results of the solution for both basalts as a timeseries of two weeks."
   ]
  },
  {
   "cell_type": "code",
   "execution_count": 12,
   "metadata": {},
   "outputs": [
    {
     "data": {
      "image/png": "[encoded data removed]",
      "text/plain": [
       "<Figure size 640x480 with 2 Axes>"
      ]
     },
     "metadata": {},
     "output_type": "display_data"
    }
   ],
   "source": [
    "# Create two subplots and unpack the output array immediately\n",
    "f, (ax1, ax2) = plt.subplots(1, 2, sharey=True)\n",
    "ax1.plot(tt / weeks, y_diop1 + y_plag1 + y_for1, label = 'Alkalinity')\n",
    "ax2.plot(tt / weeks, y_diop2 + y_plag2 + y_for2, label = 'Alkalinity')\n",
    "\n",
    "# decoration\n",
    "ax1.set_xlabel('weeks')\n",
    "ax2.set_xlabel('weeks')\n",
    "ax1.set_ylabel('mmol/l')\n",
    "ax1.set_title('Dissolution basalt 1')\n",
    "ax2.set_title('Dissolution basalt 2')\n",
    "plt.show()"
   ]
  },
  {
   "attachments": {},
   "cell_type": "markdown",
   "metadata": {},
   "source": [
    "To better show what the difference is I plot the differenc of the start of the experiment with the concentration after two week for both experimetns. This shows that basalt 1 increases the solution with about 0.001 mmol/liter alkalinity and basalt 2 only 0.0002 mmol/liter alkalinity."
   ]
  },
  {
   "cell_type": "code",
   "execution_count": 13,
   "metadata": {},
   "outputs": [
    {
     "data": {
      "image/png": "[encoded data removed]",
      "text/plain": [
       "<Figure size 640x480 with 1 Axes>"
      ]
     },
     "metadata": {},
     "output_type": "display_data"
    }
   ],
   "source": [
    "# bar plot of difference\n",
    "fig, ax = plt.subplots()\n",
    "\n",
    "# difference in alkalinity over two weeks\n",
    "diff1 = (y_diop1[-1] + y_for1[-1] + y_plag1[-1]) - (y_diop1[0] + y_for1[0] + y_plag1[0])\n",
    "diff2 = (y_diop2[-1] + y_for2[-1] + y_plag2[-1]) - (y_diop2[0] + y_for2[0] + y_plag2[0])\n",
    "diffs = [diff1, diff2]\n",
    "names = ['Basalt 1', 'Basalt2']\n",
    "\n",
    "# barplot \n",
    "ax.bar(names, diffs, label=names, color=['blue', 'red'])\n",
    "ax.set_ylabel('difference alkalinity (mmol/l) after 2 weeks')\n",
    "ax.set_title('Dissolution of basalts')\n",
    "\n",
    "plt.show()"
   ]
  },
  {
   "attachments": {},
   "cell_type": "markdown",
   "metadata": {},
   "source": [
    "## Question 2\n",
    "\n",
    "*Which of the 2 basalts will sequester more CO2 during this time period? *\n",
    "\n",
    "This result suggest that weathering of basalt 1 would be most efficient in drawing down atmospheric $p\\text{CO}_2$.\n",
    "\n",
    "\n",
    "## Question 3\n",
    "\n",
    "*How long will it take to dissolve 99% of basalt 1 and 2 respectively?*"
   ]
  },
  {
   "cell_type": "code",
   "execution_count": 14,
   "metadata": {},
   "outputs": [
    {
     "data": {
      "image/png": "[encoded data removed]",
      "text/plain": [
       "<Figure size 640x480 with 1 Axes>"
      ]
     },
     "metadata": {},
     "output_type": "display_data"
    }
   ],
   "source": [
    "# bar plot of difference\n",
    "fig, ax = plt.subplots()\n",
    "\n",
    "# difference in alkalinity over two weeks\n",
    "diff1 = (M_diop1[-1] + M_for1[-1] + M_plag1[-1]) - (M_diop1[0] + M_for1[0] + M_plag1[0]) \n",
    "diff2 = (M_diop2[-1] + M_for2[-1] + M_plag2[-1]) - (M_diop2[0] + M_for2[0] + M_plag2[0])\n",
    "diffs = [diff1 * 1e3, diff2 * 1e3]\n",
    "names = ['Basalt 1', 'Basalt2']\n",
    "\n",
    "# barplot \n",
    "ax.bar(names, diffs, label=names, color=['blue', 'red'])\n",
    "ax.set_ylabel('difference mmol basalt after 2 weeks')\n",
    "ax.set_title('Dissolution of basalts')\n",
    "\n",
    "plt.show()"
   ]
  },
  {
   "attachments": {},
   "cell_type": "markdown",
   "metadata": {},
   "source": [
    "About 0.48 mmol (from 4230 mmol) and 0.18 mmol (from 4633 mmol) have dissolved of the basalt 1 and 2, respectively. At this rate it will take"
   ]
  },
  {
   "cell_type": "code",
   "execution_count": 15,
   "metadata": {},
   "outputs": [
    {
     "data": {
      "text/plain": [
       "-0.030246739731328815"
      ]
     },
     "execution_count": 15,
     "metadata": {},
     "output_type": "execute_result"
    }
   ],
   "source": [
    "dec1 = math.log((4320 - 0.38) / 4230, 0.5)\n",
    "#(2 / 52) / \n",
    "dec1"
   ]
  }
 ],
 "metadata": {
  "kernelspec": {
   "display_name": "Python 3",
   "language": "python",
   "name": "python3"
  },
  "language_info": {
   "codemirror_mode": {
    "name": "ipython",
    "version": 3
   },
   "file_extension": ".py",
   "mimetype": "text/x-python",
   "name": "python",
   "nbconvert_exporter": "python",
   "pygments_lexer": "ipython3",
   "version": "3.10.10"
  },
  "orig_nbformat": 4
 },
 "nbformat": 4,
 "nbformat_minor": 2
}
